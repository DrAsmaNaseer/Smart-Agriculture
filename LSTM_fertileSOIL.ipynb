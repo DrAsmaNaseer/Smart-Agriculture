{
  "cells": [
    {
      "cell_type": "code",
      "execution_count": 9,
      "metadata": {
        "colab": {
          "base_uri": "https://localhost:8080/",
          "height": 423
        },
        "id": "dCfPtxf3yCcF",
        "outputId": "b99da2b8-5e03-45fc-b84c-e6d62a779310"
      },
      "outputs": [
        {
          "data": {
            "text/html": [
              "<div>\n",
              "<style scoped>\n",
              "    .dataframe tbody tr th:only-of-type {\n",
              "        vertical-align: middle;\n",
              "    }\n",
              "\n",
              "    .dataframe tbody tr th {\n",
              "        vertical-align: top;\n",
              "    }\n",
              "\n",
              "    .dataframe thead th {\n",
              "        text-align: right;\n",
              "    }\n",
              "</style>\n",
              "<table border=\"1\" class=\"dataframe\">\n",
              "  <thead>\n",
              "    <tr style=\"text-align: right;\">\n",
              "      <th></th>\n",
              "      <th>N</th>\n",
              "      <th>P</th>\n",
              "      <th>K</th>\n",
              "      <th>temperature</th>\n",
              "      <th>humidity</th>\n",
              "      <th>ph</th>\n",
              "      <th>Labelling</th>\n",
              "    </tr>\n",
              "  </thead>\n",
              "  <tbody>\n",
              "    <tr>\n",
              "      <th>0</th>\n",
              "      <td>90</td>\n",
              "      <td>42.0</td>\n",
              "      <td>43</td>\n",
              "      <td>20.879744</td>\n",
              "      <td>82.002744</td>\n",
              "      <td>6.502985</td>\n",
              "      <td>0.0</td>\n",
              "    </tr>\n",
              "    <tr>\n",
              "      <th>1</th>\n",
              "      <td>85</td>\n",
              "      <td>58.0</td>\n",
              "      <td>40</td>\n",
              "      <td>20.770461</td>\n",
              "      <td>80.309644</td>\n",
              "      <td>7.038096</td>\n",
              "      <td>0.0</td>\n",
              "    </tr>\n",
              "    <tr>\n",
              "      <th>2</th>\n",
              "      <td>60</td>\n",
              "      <td>55.0</td>\n",
              "      <td>44</td>\n",
              "      <td>23.004459</td>\n",
              "      <td>82.320763</td>\n",
              "      <td>7.840207</td>\n",
              "      <td>0.0</td>\n",
              "    </tr>\n",
              "    <tr>\n",
              "      <th>3</th>\n",
              "      <td>74</td>\n",
              "      <td>35.0</td>\n",
              "      <td>40</td>\n",
              "      <td>26.490096</td>\n",
              "      <td>80.058363</td>\n",
              "      <td>6.980401</td>\n",
              "      <td>0.0</td>\n",
              "    </tr>\n",
              "    <tr>\n",
              "      <th>4</th>\n",
              "      <td>78</td>\n",
              "      <td>42.0</td>\n",
              "      <td>42</td>\n",
              "      <td>20.030075</td>\n",
              "      <td>80.604873</td>\n",
              "      <td>7.628473</td>\n",
              "      <td>0.0</td>\n",
              "    </tr>\n",
              "    <tr>\n",
              "      <th>...</th>\n",
              "      <td>...</td>\n",
              "      <td>...</td>\n",
              "      <td>...</td>\n",
              "      <td>...</td>\n",
              "      <td>...</td>\n",
              "      <td>...</td>\n",
              "      <td>...</td>\n",
              "    </tr>\n",
              "    <tr>\n",
              "      <th>12545</th>\n",
              "      <td>219</td>\n",
              "      <td>100.0</td>\n",
              "      <td>235</td>\n",
              "      <td>24.000000</td>\n",
              "      <td>88.000000</td>\n",
              "      <td>7.271978</td>\n",
              "      <td>1.0</td>\n",
              "    </tr>\n",
              "    <tr>\n",
              "      <th>12546</th>\n",
              "      <td>212</td>\n",
              "      <td>128.0</td>\n",
              "      <td>230</td>\n",
              "      <td>24.000000</td>\n",
              "      <td>86.000000</td>\n",
              "      <td>7.419632</td>\n",
              "      <td>1.0</td>\n",
              "    </tr>\n",
              "    <tr>\n",
              "      <th>12547</th>\n",
              "      <td>236</td>\n",
              "      <td>146.0</td>\n",
              "      <td>222</td>\n",
              "      <td>24.000000</td>\n",
              "      <td>87.000000</td>\n",
              "      <td>7.425135</td>\n",
              "      <td>1.0</td>\n",
              "    </tr>\n",
              "    <tr>\n",
              "      <th>12548</th>\n",
              "      <td>248</td>\n",
              "      <td>119.0</td>\n",
              "      <td>222</td>\n",
              "      <td>24.000000</td>\n",
              "      <td>88.000000</td>\n",
              "      <td>7.422796</td>\n",
              "      <td>1.0</td>\n",
              "    </tr>\n",
              "    <tr>\n",
              "      <th>12549</th>\n",
              "      <td>246</td>\n",
              "      <td>103.0</td>\n",
              "      <td>213</td>\n",
              "      <td>24.000000</td>\n",
              "      <td>86.000000</td>\n",
              "      <td>7.452996</td>\n",
              "      <td>1.0</td>\n",
              "    </tr>\n",
              "  </tbody>\n",
              "</table>\n",
              "<p>12550 rows × 7 columns</p>\n",
              "</div>"
            ],
            "text/plain": [
              "         N      P    K  temperature   humidity        ph  Labelling\n",
              "0       90   42.0   43    20.879744  82.002744  6.502985        0.0\n",
              "1       85   58.0   40    20.770461  80.309644  7.038096        0.0\n",
              "2       60   55.0   44    23.004459  82.320763  7.840207        0.0\n",
              "3       74   35.0   40    26.490096  80.058363  6.980401        0.0\n",
              "4       78   42.0   42    20.030075  80.604873  7.628473        0.0\n",
              "...    ...    ...  ...          ...        ...       ...        ...\n",
              "12545  219  100.0  235    24.000000  88.000000  7.271978        1.0\n",
              "12546  212  128.0  230    24.000000  86.000000  7.419632        1.0\n",
              "12547  236  146.0  222    24.000000  87.000000  7.425135        1.0\n",
              "12548  248  119.0  222    24.000000  88.000000  7.422796        1.0\n",
              "12549  246  103.0  213    24.000000  86.000000  7.452996        1.0\n",
              "\n",
              "[12550 rows x 7 columns]"
            ]
          },
          "execution_count": 9,
          "metadata": {},
          "output_type": "execute_result"
        }
      ],
      "source": [
        "\n",
        "#Smart Agriculture LSTM \n",
        "import pandas as pd\n",
        "from sklearn.model_selection import train_test_split\n",
        "from keras.models import Sequential\n",
        "from keras.layers import LSTM, Dense, Dropout\n",
        "\n",
        "# Load and prepare data\n",
        "df = pd.read_csv('completeData.csv')\n",
        "df=df.drop('Unnamed: 7', axis=1)\n",
        "df=df.drop('Unnamed: 8', axis=1)\n",
        "\n",
        "df"
      ]
    },
    {
      "cell_type": "code",
      "execution_count": 3,
      "metadata": {
        "colab": {
          "base_uri": "https://localhost:8080/"
        },
        "id": "MRKn1vqUD3Sd",
        "outputId": "84e47457-b6e7-4b6a-d015-2d755710088f"
      },
      "outputs": [
        {
          "data": {
            "text/plain": [
              "Labelling\n",
              "0.0    7249\n",
              "1.0    5300\n",
              "Name: count, dtype: int64"
            ]
          },
          "execution_count": 3,
          "metadata": {},
          "output_type": "execute_result"
        }
      ],
      "source": [
        "# prompt: count each label in dataset\n",
        "\n",
        "df['Labelling'].value_counts()\n"
      ]
    },
    {
      "cell_type": "code",
      "execution_count": null,
      "metadata": {
        "colab": {
          "base_uri": "https://localhost:8080/"
        },
        "id": "uoPenEt1EbeX",
        "outputId": "19dae736-557e-487b-8ce1-45e33cacd09f"
      },
      "outputs": [],
      "source": [
        "y_train.value_counts()\n"
      ]
    },
    {
      "cell_type": "code",
      "execution_count": null,
      "metadata": {
        "colab": {
          "base_uri": "https://localhost:8080/"
        },
        "id": "0UwSElWg2Aqq",
        "outputId": "92da92b1-1069-475a-cae6-d0369b23304b"
      },
      "outputs": [],
      "source": [
        "y_test.value_counts()\n"
      ]
    },
    {
      "cell_type": "code",
      "execution_count": 7,
      "metadata": {
        "id": "wHKgMTgt115C"
      },
      "outputs": [],
      "source": [
        "# prompt: drop row having any nan\n",
        "\n",
        "df = df.dropna()\n"
      ]
    },
    {
      "cell_type": "code",
      "execution_count": 8,
      "metadata": {
        "colab": {
          "base_uri": "https://localhost:8080/"
        },
        "id": "euIf1ezzyDzk",
        "outputId": "656ab4fa-fbdd-4f1b-e63a-fa1ee30f7fc5"
      },
      "outputs": [
        {
          "name": "stderr",
          "output_type": "stream",
          "text": [
            "/var/folders/v4/9f0xprhx79j2bpk30s_k945w0000gn/T/ipykernel_47661/1619112254.py:2: SettingWithCopyWarning: \n",
            "A value is trying to be set on a copy of a slice from a DataFrame.\n",
            "Try using .loc[row_indexer,col_indexer] = value instead\n",
            "\n",
            "See the caveats in the documentation: https://pandas.pydata.org/pandas-docs/stable/user_guide/indexing.html#returning-a-view-versus-a-copy\n",
            "  df[\"temp_humidity_ratio\"] = df[\"temperature\"] / df[\"humidity\"]\n"
          ]
        }
      ],
      "source": [
        "\n",
        "# Create additional features\n",
        "df[\"temp_humidity_ratio\"] = df[\"temperature\"] / df[\"humidity\"]\n",
        "\n",
        "X = df[[\"N\", \"P\", \"K\", \"temperature\", \"humidity\", \"temp_humidity_ratio\"]]\n",
        "y = df[\"Labelling\"]"
      ]
    },
    {
      "cell_type": "code",
      "execution_count": 9,
      "metadata": {
        "colab": {
          "base_uri": "https://localhost:8080/"
        },
        "id": "LHjBzI-ryT1u",
        "outputId": "ae94b2dd-b3b6-4b18-f8b7-d540665beb15"
      },
      "outputs": [
        {
          "data": {
            "text/plain": [
              "0"
            ]
          },
          "execution_count": 9,
          "metadata": {},
          "output_type": "execute_result"
        }
      ],
      "source": [
        "y.isna().sum()"
      ]
    },
    {
      "cell_type": "code",
      "execution_count": 10,
      "metadata": {
        "id": "w8WQIgsgi_WL"
      },
      "outputs": [],
      "source": [
        "X_train, X_test, y_train, y_test = train_test_split(X, y, test_size=0.2, stratify=y )\n",
        "\n",
        "# # Reshape data for LSTM\n",
        "X_train = X_train.values.reshape((X_train.shape[0], X_train.shape[1], 1))\n",
        "X_test = X_test.values.reshape((X_test.shape[0], X_test.shape[1], 1))\n",
        "\n"
      ]
    },
    {
      "cell_type": "code",
      "execution_count": 11,
      "metadata": {
        "colab": {
          "base_uri": "https://localhost:8080/"
        },
        "id": "jDxLscO42mlC",
        "outputId": "d3509271-2821-4538-8c88-2a0299534d63"
      },
      "outputs": [
        {
          "name": "stdout",
          "output_type": "stream",
          "text": [
            "10039\n",
            "10039\n",
            "2510\n",
            "2510\n"
          ]
        }
      ],
      "source": [
        "print(len(X_train))\n",
        "print(len(y_train))\n",
        "print(len(y_test))\n",
        "print(len(X_test))"
      ]
    },
    {
      "cell_type": "code",
      "execution_count": null,
      "metadata": {
        "id": "gkXTX5rRx9qw"
      },
      "outputs": [],
      "source": [
        "# !pip install transformers # did not work for pipeline\n",
        "from sklearn.pipeline import Pipeline\n",
        "import sklearn\n",
        "pipeline = Pipeline([\n",
        "    ('std_scalar', sklearn.preprocessing.StandardScaler())\n",
        "])\n",
        "\n",
        "# X_train = pipeline.fit_transform(X_train)\n",
        "# X_test = pipeline.transform(X_test)"
      ]
    },
    {
      "cell_type": "code",
      "execution_count": 10,
      "metadata": {
        "colab": {
          "base_uri": "https://localhost:8080/"
        },
        "id": "ExQO0SP2x_Gk",
        "outputId": "4441db95-9aeb-4f0b-bf7c-11c88164eac4"
      },
      "outputs": [
        {
          "name": "stdout",
          "output_type": "stream",
          "text": [
            "WARNING:tensorflow:Layer lstm will not use cuDNN kernels since it doesn't meet the criteria. It will use a generic GPU kernel as fallback when running on GPU.\n"
          ]
        },
        {
          "name": "stdout",
          "output_type": "stream",
          "text": [
            "WARNING:tensorflow:Layer lstm_1 will not use cuDNN kernels since it doesn't meet the criteria. It will use a generic GPU kernel as fallback when running on GPU.\n",
            "WARNING:tensorflow:Layer lstm_2 will not use cuDNN kernels since it doesn't meet the criteria. It will use a generic GPU kernel as fallback when running on GPU.\n"
          ]
        }
      ],
      "source": [
        "# Build LSTM model\n",
        "model = Sequential()\n",
        "model.add(LSTM(64, activation='relu', return_sequences=True,\n",
        "               input_shape=(X_train.shape[1], 1)))\n",
        "model.add(Dropout(0.2))\n",
        "\n",
        "model.add(LSTM(64, activation='relu', return_sequences=True))\n",
        "model.add(Dropout(0.2))\n",
        "\n",
        "model.add(LSTM(32, activation='relu'))\n",
        "model.add(Dropout(0.2))\n",
        "\n",
        "model.add(Dense(1, activation='sigmoid'))\n",
        "\n",
        "model.compile(loss='binary_crossentropy',\n",
        "              optimizer='adam',\n",
        "              metrics=['accuracy'])\n",
        "lstm=model\n",
        "\n",
        "# Train model\n",
        "# model.fit(X_train, y_train, epochs=10, batch_size=32,\n",
        "        #  validation_data=(X_test, y_test))"
      ]
    },
    {
      "cell_type": "code",
      "execution_count": null,
      "metadata": {
        "id": "qk2Fzgdqu-yh"
      },
      "outputs": [],
      "source": []
    },
    {
      "cell_type": "code",
      "execution_count": 20,
      "metadata": {
        "colab": {
          "base_uri": "https://localhost:8080/"
        },
        "id": "nEMe9W7GA2th",
        "outputId": "2af78fd7-20d1-437b-bcf6-094579a3215d"
      },
      "outputs": [
        {
          "name": "stdout",
          "output_type": "stream",
          "text": [
            "Model: \"sequential_1\"\n",
            "_________________________________________________________________\n",
            " Layer (type)                Output Shape              Param #   \n",
            "=================================================================\n",
            " lstm_3 (LSTM)               (None, 6, 64)             16896     \n",
            "                                                                 \n",
            " dropout_3 (Dropout)         (None, 6, 64)             0         \n",
            "                                                                 \n",
            " lstm_4 (LSTM)               (None, 6, 64)             33024     \n",
            "                                                                 \n",
            " dropout_4 (Dropout)         (None, 6, 64)             0         \n",
            "                                                                 \n",
            " lstm_5 (LSTM)               (None, 32)                12416     \n",
            "                                                                 \n",
            " dropout_5 (Dropout)         (None, 32)                0         \n",
            "                                                                 \n",
            " dense_1 (Dense)             (None, 1)                 33        \n",
            "                                                                 \n",
            "=================================================================\n",
            "Total params: 62,369\n",
            "Trainable params: 62,369\n",
            "Non-trainable params: 0\n",
            "_________________________________________________________________\n"
          ]
        }
      ],
      "source": [
        "model.summary()"
      ]
    },
    {
      "cell_type": "code",
      "execution_count": 5,
      "metadata": {},
      "outputs": [],
      "source": [
        "import numpy as np\n",
        "import pandas as pd\n",
        "from sklearn.model_selection import train_test_split\n",
        "from tensorflow.keras.models import Sequential\n",
        "from tensorflow.keras.layers import Dense, Dropout, Flatten, Conv2D, MaxPooling2D\n",
        "\n",
        "# Load data\n",
        "df = pd.read_csv('completeData.csv')\n",
        "df=df.drop('Unnamed: 7', axis=1)\n",
        "df=df.drop('Unnamed: 8', axis=1)\n",
        "# Split features and target\n",
        "X = df.loc[:, ['N', 'P', 'K', 'temperature', 'humidity', 'ph']]\n",
        "y = df['Labelling']\n",
        "\n",
        "# Split train and test data\n",
        "X_train, X_test, y_train, y_test = train_test_split(X, y, test_size=0.2, random_state=42)\n",
        "\n",
        "# Reshape feature data for CNN input\n",
        "X_train = X_train.values.reshape(-1,1,6,1)\n",
        "X_test = X_test.values.reshape(-1,1,6,1)\n",
        "\n",
        "# One hot encode target\n",
        "y_train = pd.get_dummies(y_train)\n",
        "y_test = pd.get_dummies(y_test)\n",
        "\n",
        "# Build CNN model\n",
        "model = Sequential()\n",
        "model.add(Conv2D(32, kernel_size=(1,3), activation='relu', input_shape=(1,6,1)))\n",
        "model.add(MaxPooling2D(pool_size=(1, 2)))\n",
        "model.add(Flatten())\n",
        "model.add(Dense(16, activation='relu'))\n",
        "model.add(Dropout(0.5))\n",
        "model.add(Dense(2, activation='softmax'))\n",
        "\n",
        "model.compile(loss='categorical_crossentropy', optimizer='adam', metrics=['accuracy'])\n",
        "cnn=model\n"
      ]
    },
    {
      "cell_type": "code",
      "execution_count": 34,
      "metadata": {},
      "outputs": [
        {
          "data": {
            "image/png": "[encoded data removed]",
            "text/plain": [
              "<IPython.core.display.Image object>"
            ]
          },
          "execution_count": 34,
          "metadata": {},
          "output_type": "execute_result"
        }
      ],
      "source": [
        "import tensorflow as tf\n",
        "# !pip install pydot\n",
        "# !brew install graphviz\n",
        "tf.keras.utils.plot_model(model, \"model.png\", show_shapes=False, show_dtype=False, show_layer_names=True, rankdir='TB', expand_nested=False, dpi=96)"
      ]
    },
    {
      "cell_type": "code",
      "execution_count": null,
      "metadata": {},
      "outputs": [],
      "source": [
        "# !pip install visualkeras\n",
        "import visualkeras\n",
        "\n",
        "# visualkeras.layered_view(cnn).show() # display using your system viewer\n",
        "# visualkeras.layered_view(cnn, to_file='output.png') # write to disk\n",
        "# visualkeras.layered_view(cnn, to_file='output.png').show() # write and show\n",
        "\n",
        "# visualkeras.layered_view(cnn)\n",
        "# visualkeras.layered_view(lstm)"
      ]
    }
  ],
  "metadata": {
    "colab": {
      "provenance": []
    },
    "kernelspec": {
      "display_name": "Python 3",
      "name": "python3"
    },
    "language_info": {
      "codemirror_mode": {
        "name": "ipython",
        "version": 3
      },
      "file_extension": ".py",
      "mimetype": "text/x-python",
      "name": "python",
      "nbconvert_exporter": "python",
      "pygments_lexer": "ipython3",
      "version": "3.9.6"
    }
  },
  "nbformat": 4,
  "nbformat_minor": 0
}
